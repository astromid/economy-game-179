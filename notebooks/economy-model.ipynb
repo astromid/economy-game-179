{
 "cells": [
  {
   "cell_type": "code",
   "execution_count": 1,
   "metadata": {},
   "outputs": [],
   "source": [
    "import matplotlib.pyplot as plt\n",
    "import numpy as np\n",
    "import seaborn as sns\n",
    "\n",
    "sns.set()"
   ]
  },
  {
   "cell_type": "markdown",
   "metadata": {},
   "source": [
    "Константы модели"
   ]
  },
  {
   "cell_type": "code",
   "execution_count": null,
   "metadata": {},
   "outputs": [],
   "source": [
    "T = 10\n",
    "M = 1\n",
    "N = 1\n",
    "NU = 1\n",
    "T_NAS = 10\n",
    "ALPHA = 0.05\n",
    "BETA = 0.01\n",
    "GAMMA = 0.001\n",
    "P_M0 = 0.2\n",
    "S_M0 = 0.3\n",
    "D_T = []"
   ]
  }
 ],
 "metadata": {
  "kernelspec": {
   "display_name": "Python 3.10.5 ('egame-179')",
   "language": "python",
   "name": "python3"
  },
  "language_info": {
   "codemirror_mode": {
    "name": "ipython",
    "version": 3
   },
   "file_extension": ".py",
   "mimetype": "text/x-python",
   "name": "python",
   "nbconvert_exporter": "python",
   "pygments_lexer": "ipython3",
   "version": "3.10.5"
  },
  "orig_nbformat": 4,
  "vscode": {
   "interpreter": {
    "hash": "ab13fe7e85dcb17e2dc4841e987ee7db541bbb3686cfb7e27015038a32fda634"
   }
  }
 },
 "nbformat": 4,
 "nbformat_minor": 2
}
